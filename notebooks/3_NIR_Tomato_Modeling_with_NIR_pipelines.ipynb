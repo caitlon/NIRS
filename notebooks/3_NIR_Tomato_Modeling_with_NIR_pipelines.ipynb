{
 "cells": [
  {
   "cell_type": "markdown",
   "metadata": {},
   "source": "# Model Selection"
  },
  {
   "metadata": {
    "ExecuteTime": {
     "end_time": "2025-03-06T14:02:14.013077Z",
     "start_time": "2025-03-06T14:02:13.546233Z"
    }
   },
   "cell_type": "code",
   "source": [
    "import pandas as pd\n",
    "import numpy as np\n",
    "import matplotlib.pyplot as plt\n",
    "import seaborn as sns\n",
    "import joblib\n",
    "from time import time\n",
    "\n",
    "from sklearn.pipeline import Pipeline\n",
    "from sklearn.model_selection import RandomizedSearchCV\n",
    "from sklearn.metrics import mean_squared_error, r2_score, mean_absolute_error\n",
    "from sklearn.neural_network import MLPRegressor\n",
    "\n",
    "from sklearn.ensemble import RandomForestRegressor\n",
    "from sklearn.svm import SVR\n",
    "from sklearn.linear_model import ElasticNet\n",
    "from xgboost import XGBRegressor\n",
    "from lightgbm import LGBMRegressor\n",
    "\n",
    "import nir_preprocessing as nir_prep\n",
    "\n",
    "plt.style.use('seaborn-v0_8-whitegrid')\n",
    "sns.set_context(\"notebook\", font_scale=1.2)\n",
    "\n",
    "np.random.seed(42)\n",
    "\n",
    "import warnings\n",
    "warnings.filterwarnings('ignore')\n",
    "\n",
    "\n",
    "from sklearn.exceptions import ConvergenceWarning\n",
    "warnings.filterwarnings('ignore', category=ConvergenceWarning)\n",
    "warnings.filterwarnings('ignore', category=UserWarning)\n",
    "warnings.filterwarnings('ignore', category=FutureWarning)"
   ],
   "outputs": [],
   "execution_count": 1
  },
  {
   "cell_type": "markdown",
   "metadata": {},
   "source": "## 1. Data Loading and Setup"
  },
  {
   "metadata": {
    "ExecuteTime": {
     "end_time": "2025-03-06T14:02:14.019859Z",
     "start_time": "2025-03-06T14:02:14.015763Z"
    }
   },
   "cell_type": "code",
   "source": [
    "processed_dataset = joblib.load('nir_tomato_processed_dataset.joblib')\n",
    "\n",
    "X = processed_dataset['X']\n",
    "y = processed_dataset['y']\n",
    "data_splits = processed_dataset['data_splits']\n",
    "\n",
    "# Split the data using indices from preprocessing\n",
    "X_train = X.loc[data_splits['train_indices']]\n",
    "X_val = X.loc[data_splits['val_indices']]\n",
    "X_test = X.loc[data_splits['test_indices']]\n",
    "\n",
    "y_train = y.loc[data_splits['train_indices']]\n",
    "y_val = y.loc[data_splits['val_indices']]\n",
    "y_test = y.loc[data_splits['test_indices']]\n",
    "\n",
    "print(f\"Training set: {X_train.shape} samples\")\n",
    "print(f\"Validation set: {X_val.shape} samples\")\n",
    "print(f\"Test set: {X_test.shape} samples\")"
   ],
   "outputs": [
    {
     "name": "stdout",
     "output_type": "stream",
     "text": [
      "Training set: (255, 126) samples\n",
      "Validation set: (86, 126) samples\n",
      "Test set: (86, 126) samples\n"
     ]
    }
   ],
   "execution_count": 2
  },
  {
   "metadata": {
    "ExecuteTime": {
     "end_time": "2025-03-06T14:02:14.055464Z",
     "start_time": "2025-03-06T14:02:14.053743Z"
    }
   },
   "cell_type": "code",
   "source": [
    "# Create preprocessing pipelines\n",
    "nir_pipelines = nir_prep.create_preprocessing_pipelines()\n",
    "print(f\"Available NIR preprocessing methods: {list(nir_pipelines.keys())}\")"
   ],
   "outputs": [
    {
     "name": "stdout",
     "output_type": "stream",
     "text": [
      "Available NIR preprocessing methods: ['raw', 'snv', 'sg1', 'sg2', 'msc', 'snv_pca', 'sg1_pca']\n"
     ]
    }
   ],
   "execution_count": 3
  },
  {
   "metadata": {
    "ExecuteTime": {
     "end_time": "2025-03-06T14:02:14.070034Z",
     "start_time": "2025-03-06T14:02:14.067804Z"
    }
   },
   "cell_type": "code",
   "source": "def evaluate_model(model, X_train, y_train, X_val, y_val):\n    y_train_pred = model.predict(X_train)\n    y_val_pred = model.predict(X_val)\n\n    # Metrics\n    train_rmse = np.sqrt(mean_squared_error(y_train, y_train_pred))\n    train_r2 = r2_score(y_train, y_train_pred)\n    train_mae = mean_absolute_error(y_train, y_train_pred)\n\n    val_rmse = np.sqrt(mean_squared_error(y_val, y_val_pred))\n    val_r2 = r2_score(y_val, y_val_pred)\n    val_mae = mean_absolute_error(y_val, y_val_pred)\n\n    return {\n        'train_rmse': train_rmse,\n        'train_r2': train_r2,\n        'train_mae': train_mae,\n        'val_rmse': val_rmse,\n        'val_r2': val_r2,\n        'val_mae': val_mae,\n        'y_train_pred': y_train_pred,\n        'y_val_pred': y_val_pred\n    }",
   "outputs": [],
   "execution_count": 4
  },
  {
   "metadata": {
    "ExecuteTime": {
     "end_time": "2025-03-06T14:02:15.153635Z",
     "start_time": "2025-03-06T14:02:14.081602Z"
    }
   },
   "cell_type": "code",
   "source": [
    "# Training basic regression models\n",
    "models = {\n",
    "    \"Random Forest\": RandomForestRegressor(random_state=42),\n",
    "    \"SVR\": SVR(),\n",
    "    \"ElasticNet\": ElasticNet(random_state=42),\n",
    "    \"XGBoost\": XGBRegressor(random_state=42),\n",
    "    \"LightGBM\": LGBMRegressor(random_state=42, verbose=-1)\n",
    "}\n",
    "\n",
    "results = {}\n",
    "\n",
    "for name, model in models.items():\n",
    "    print(f\"\\nTraining {name}...\")\n",
    "    start_time_base = time()\n",
    "    \n",
    "    # Turn off warnings\n",
    "    with warnings.catch_warnings():\n",
    "        warnings.filterwarnings(\"ignore\", category=UserWarning)\n",
    "        model.fit(X_train, y_train)\n",
    "    \n",
    "    end_time_base = time()\n",
    "\n",
    "    results[name] = evaluate_model(model, X_train, y_train, X_val, y_val)\n",
    "    results[name]['training_time'] = end_time_base - start_time_base\n",
    "\n",
    "    print(f\"{name} - Training time: {results[name]['training_time']:.2f}s\")\n",
    "    print(f\"{name} - Validation RMSE: {results[name]['val_rmse']:.4f}\")\n",
    "    print(f\"{name} - Validation R²: {results[name]['val_r2']:.4f}\")"
   ],
   "outputs": [
    {
     "name": "stdout",
     "output_type": "stream",
     "text": [
      "\n",
      "Training Random Forest...\n",
      "Random Forest - Training time: 0.49s\n",
      "Random Forest - Validation RMSE: 0.2997\n",
      "Random Forest - Validation R²: 0.7477\n",
      "\n",
      "Training SVR...\n",
      "SVR - Training time: 0.00s\n",
      "SVR - Validation RMSE: 0.5678\n",
      "SVR - Validation R²: 0.0943\n",
      "\n",
      "Training ElasticNet...\n",
      "ElasticNet - Training time: 0.00s\n",
      "ElasticNet - Validation RMSE: 0.6008\n",
      "ElasticNet - Validation R²: -0.0138\n",
      "\n",
      "Training XGBoost...\n",
      "XGBoost - Training time: 0.46s\n",
      "XGBoost - Validation RMSE: 0.3168\n",
      "XGBoost - Validation R²: 0.7182\n",
      "\n",
      "Training LightGBM...\n",
      "LightGBM - Training time: 0.08s\n",
      "LightGBM - Validation RMSE: 0.3113\n",
      "LightGBM - Validation R²: 0.7278\n"
     ]
    }
   ],
   "execution_count": 5
  },
  {
   "metadata": {
    "ExecuteTime": {
     "end_time": "2025-03-06T14:02:15.170400Z",
     "start_time": "2025-03-06T14:02:15.168328Z"
    }
   },
   "cell_type": "code",
   "source": [
    "# MLP optimization with NIR preprocessing\n",
    "mlp_pipeline = Pipeline([\n",
    "    ('preprocessor', None),\n",
    "    ('model', MLPRegressor(max_iter=10000, random_state=42))\n",
    "])\n",
    "\n",
    "# Define the hyperparameter grid\n",
    "mlp_param_grid = {\n",
    "    'preprocessor': list(nir_pipelines.values()),\n",
    "    'model__hidden_layer_sizes': [\n",
    "        (50,), (100,),\n",
    "        (50, 25), (100, 50)\n",
    "    ],\n",
    "    'model__activation': ['relu', 'tanh'],\n",
    "    'model__alpha': [0.0001, 0.001],\n",
    "    'model__solver': ['adam', 'lbfgs']\n",
    "}\n",
    "\n",
    "# Randomized search with cross-validation\n",
    "mlp_search = RandomizedSearchCV(\n",
    "    mlp_pipeline,\n",
    "    mlp_param_grid,\n",
    "    cv=5,\n",
    "    scoring='neg_root_mean_squared_error',\n",
    "    n_jobs=-1,\n",
    "    random_state=42,\n",
    "    verbose=0\n",
    ")"
   ],
   "outputs": [],
   "execution_count": 6
  },
  {
   "metadata": {
    "ExecuteTime": {
     "end_time": "2025-03-06T14:03:02.213527Z",
     "start_time": "2025-03-06T14:02:15.211842Z"
    }
   },
   "cell_type": "code",
   "source": [
    "with warnings.catch_warnings():\n",
    "    warnings.simplefilter(\"ignore\")\n",
    "\n",
    "    start_time = time()\n",
    "\n",
    "    mlp_search.fit(X_train, y_train)\n",
    "\n",
    "    end_time = time()"
   ],
   "outputs": [
    {
     "name": "stderr",
     "output_type": "stream",
     "text": [
      "/opt/anaconda3/lib/python3.12/site-packages/sklearn/neural_network/_multilayer_perceptron.py:545: ConvergenceWarning: lbfgs failed to converge (status=1):\n",
      "STOP: TOTAL NO. of ITERATIONS REACHED LIMIT.\n",
      "\n",
      "Increase the number of iterations (max_iter) or scale the data as shown in:\n",
      "    https://scikit-learn.org/stable/modules/preprocessing.html\n",
      "  self.n_iter_ = _check_optimize_result(\"lbfgs\", opt_res, self.max_iter)\n",
      "/opt/anaconda3/lib/python3.12/site-packages/sklearn/neural_network/_multilayer_perceptron.py:545: ConvergenceWarning: lbfgs failed to converge (status=1):\n",
      "STOP: TOTAL NO. of ITERATIONS REACHED LIMIT.\n",
      "\n",
      "Increase the number of iterations (max_iter) or scale the data as shown in:\n",
      "    https://scikit-learn.org/stable/modules/preprocessing.html\n",
      "  self.n_iter_ = _check_optimize_result(\"lbfgs\", opt_res, self.max_iter)\n",
      "/opt/anaconda3/lib/python3.12/site-packages/sklearn/neural_network/_multilayer_perceptron.py:545: ConvergenceWarning: lbfgs failed to converge (status=1):\n",
      "STOP: TOTAL NO. of ITERATIONS REACHED LIMIT.\n",
      "\n",
      "Increase the number of iterations (max_iter) or scale the data as shown in:\n",
      "    https://scikit-learn.org/stable/modules/preprocessing.html\n",
      "  self.n_iter_ = _check_optimize_result(\"lbfgs\", opt_res, self.max_iter)\n"
     ]
    }
   ],
   "execution_count": 7
  },
  {
   "metadata": {
    "ExecuteTime": {
     "end_time": "2025-03-06T14:03:02.231470Z",
     "start_time": "2025-03-06T14:03:02.222695Z"
    }
   },
   "cell_type": "code",
   "source": [
    "# Get the best MLP model\n",
    "best_mlp = mlp_search.best_estimator_\n",
    "print(f\"Best MLP RMSE: {-mlp_search.best_score_:.4f}\")\n",
    "\n",
    "best_params = mlp_search.best_params_\n",
    "print(\"\\nBest MLP parameters:\")\n",
    "for param, value in best_params.items():\n",
    "    if param.startswith('model__'):\n",
    "        print(f\"  {param.replace('model__', '')}: {value}\")\n",
    "\n",
    "# Get the best preprocessing method\n",
    "best_preprocessing = None\n",
    "for name, pipeline in nir_pipelines.items():\n",
    "    if pipeline == best_params['preprocessor']:\n",
    "        best_preprocessing = name\n",
    "        break\n",
    "\n",
    "print(f\"\\nBest preprocessing method: {best_preprocessing}\")"
   ],
   "outputs": [
    {
     "name": "stdout",
     "output_type": "stream",
     "text": [
      "Best MLP RMSE: 0.3223\n",
      "\n",
      "Best MLP parameters:\n",
      "  solver: lbfgs\n",
      "  hidden_layer_sizes: (100, 50)\n",
      "  alpha: 0.001\n",
      "  activation: tanh\n",
      "\n",
      "Best preprocessing method: msc\n"
     ]
    }
   ],
   "execution_count": 8
  },
  {
   "metadata": {
    "ExecuteTime": {
     "end_time": "2025-03-06T14:03:02.345150Z",
     "start_time": "2025-03-06T14:03:02.313155Z"
    }
   },
   "cell_type": "code",
   "source": [
    "# Evaluation on validation set\n",
    "mlp_val_results = evaluate_model(best_mlp, X_train, y_train, X_val, y_val)\n",
    "print(f\"Validation RMSE: {mlp_val_results['val_rmse']:.4f}\")\n",
    "print(f\"Validation R²: {mlp_val_results['val_r2']:.4f}\")\n",
    "print(f\"Validation MAE: {mlp_val_results['val_mae']:.4f}\")"
   ],
   "outputs": [
    {
     "name": "stdout",
     "output_type": "stream",
     "text": [
      "Validation RMSE: 0.2895\n",
      "Validation R²: 0.7645\n",
      "Validation MAE: 0.2293\n"
     ]
    }
   ],
   "execution_count": 9
  },
  {
   "metadata": {
    "ExecuteTime": {
     "end_time": "2025-03-06T14:03:02.387997Z",
     "start_time": "2025-03-06T14:03:02.384503Z"
    }
   },
   "cell_type": "code",
   "source": [
    "# Save results for comparison\n",
    "results[\"MLP with NIR\"] = mlp_val_results\n",
    "results[\"MLP with NIR\"]['training_time'] = end_time - start_time\n",
    "results[\"MLP with NIR\"]['preprocessing'] = best_preprocessing"
   ],
   "outputs": [],
   "execution_count": 10
  },
  {
   "metadata": {
    "ExecuteTime": {
     "end_time": "2025-03-06T14:03:02.542380Z",
     "start_time": "2025-03-06T14:03:02.422426Z"
    }
   },
   "cell_type": "code",
   "source": [
    "# Model comparison\n",
    "comparison_df = pd.DataFrame({\n",
    "    'Model': list(results.keys()),\n",
    "    'Train RMSE': [results[model]['train_rmse'] for model in results],\n",
    "    'Val RMSE': [results[model]['val_rmse'] for model in results],\n",
    "    'Train R²': [results[model]['train_r2'] for model in results],\n",
    "    'Val R²': [results[model]['val_r2'] for model in results],\n",
    "    'Train MAE': [results[model]['train_mae'] for model in results],\n",
    "    'Val MAE': [results[model]['val_mae'] for model in results],\n",
    "    'Training Time (s)': [results[model]['training_time'] for model in results],\n",
    "    'Preprocessing': [results[model].get('preprocessing', 'N/A') for model in results]\n",
    "})\n",
    "\n",
    "print(\"\\nModel Comparison:\")\n",
    "display(comparison_df.sort_values('Val RMSE'))\n",
    "\n",
    "plt.figure(figsize=(12, 6))\n",
    "sns.barplot(x='Model', y='Val RMSE', data=comparison_df.sort_values('Val RMSE'))\n",
    "plt.title('Model Comparison - Validation RMSE')\n",
    "plt.xticks(rotation=45)\n",
    "plt.tight_layout()\n",
    "plt.show()"
   ],
   "outputs": [
    {
     "name": "stdout",
     "output_type": "stream",
     "text": [
      "\n",
      "Model Comparison:\n"
     ]
    },
    {
     "data": {
      "text/plain": [
       "           Model  Train RMSE  Val RMSE  Train R²    Val R²  Train MAE  \\\n",
       "5   MLP with NIR    0.237554  0.289549  0.834818  0.764490   0.183844   \n",
       "0  Random Forest    0.108792  0.299709  0.965356  0.747673   0.079661   \n",
       "4       LightGBM    0.116489  0.311277  0.960280  0.727819   0.083784   \n",
       "3        XGBoost    0.000925  0.316755  0.999997  0.718155   0.000628   \n",
       "1            SVR    0.540693  0.567813  0.144262  0.094321   0.420715   \n",
       "2     ElasticNet    0.584495  0.600755  0.000000 -0.013816   0.461664   \n",
       "\n",
       "    Val MAE  Training Time (s) Preprocessing  \n",
       "5  0.229332          46.999829           msc  \n",
       "0  0.229430           0.488515           N/A  \n",
       "4  0.251475           0.082816           N/A  \n",
       "3  0.235328           0.459279           N/A  \n",
       "1  0.436897           0.003599           N/A  \n",
       "2  0.468459           0.001344           N/A  "
      ],
      "text/html": [
       "<div>\n",
       "<style scoped>\n",
       "    .dataframe tbody tr th:only-of-type {\n",
       "        vertical-align: middle;\n",
       "    }\n",
       "\n",
       "    .dataframe tbody tr th {\n",
       "        vertical-align: top;\n",
       "    }\n",
       "\n",
       "    .dataframe thead th {\n",
       "        text-align: right;\n",
       "    }\n",
       "</style>\n",
       "<table border=\"1\" class=\"dataframe\">\n",
       "  <thead>\n",
       "    <tr style=\"text-align: right;\">\n",
       "      <th></th>\n",
       "      <th>Model</th>\n",
       "      <th>Train RMSE</th>\n",
       "      <th>Val RMSE</th>\n",
       "      <th>Train R²</th>\n",
       "      <th>Val R²</th>\n",
       "      <th>Train MAE</th>\n",
       "      <th>Val MAE</th>\n",
       "      <th>Training Time (s)</th>\n",
       "      <th>Preprocessing</th>\n",
       "    </tr>\n",
       "  </thead>\n",
       "  <tbody>\n",
       "    <tr>\n",
       "      <th>5</th>\n",
       "      <td>MLP with NIR</td>\n",
       "      <td>0.237554</td>\n",
       "      <td>0.289549</td>\n",
       "      <td>0.834818</td>\n",
       "      <td>0.764490</td>\n",
       "      <td>0.183844</td>\n",
       "      <td>0.229332</td>\n",
       "      <td>46.999829</td>\n",
       "      <td>msc</td>\n",
       "    </tr>\n",
       "    <tr>\n",
       "      <th>0</th>\n",
       "      <td>Random Forest</td>\n",
       "      <td>0.108792</td>\n",
       "      <td>0.299709</td>\n",
       "      <td>0.965356</td>\n",
       "      <td>0.747673</td>\n",
       "      <td>0.079661</td>\n",
       "      <td>0.229430</td>\n",
       "      <td>0.488515</td>\n",
       "      <td>N/A</td>\n",
       "    </tr>\n",
       "    <tr>\n",
       "      <th>4</th>\n",
       "      <td>LightGBM</td>\n",
       "      <td>0.116489</td>\n",
       "      <td>0.311277</td>\n",
       "      <td>0.960280</td>\n",
       "      <td>0.727819</td>\n",
       "      <td>0.083784</td>\n",
       "      <td>0.251475</td>\n",
       "      <td>0.082816</td>\n",
       "      <td>N/A</td>\n",
       "    </tr>\n",
       "    <tr>\n",
       "      <th>3</th>\n",
       "      <td>XGBoost</td>\n",
       "      <td>0.000925</td>\n",
       "      <td>0.316755</td>\n",
       "      <td>0.999997</td>\n",
       "      <td>0.718155</td>\n",
       "      <td>0.000628</td>\n",
       "      <td>0.235328</td>\n",
       "      <td>0.459279</td>\n",
       "      <td>N/A</td>\n",
       "    </tr>\n",
       "    <tr>\n",
       "      <th>1</th>\n",
       "      <td>SVR</td>\n",
       "      <td>0.540693</td>\n",
       "      <td>0.567813</td>\n",
       "      <td>0.144262</td>\n",
       "      <td>0.094321</td>\n",
       "      <td>0.420715</td>\n",
       "      <td>0.436897</td>\n",
       "      <td>0.003599</td>\n",
       "      <td>N/A</td>\n",
       "    </tr>\n",
       "    <tr>\n",
       "      <th>2</th>\n",
       "      <td>ElasticNet</td>\n",
       "      <td>0.584495</td>\n",
       "      <td>0.600755</td>\n",
       "      <td>0.000000</td>\n",
       "      <td>-0.013816</td>\n",
       "      <td>0.461664</td>\n",
       "      <td>0.468459</td>\n",
       "      <td>0.001344</td>\n",
       "      <td>N/A</td>\n",
       "    </tr>\n",
       "  </tbody>\n",
       "</table>\n",
       "</div>"
      ]
     },
     "metadata": {},
     "output_type": "display_data"
    },
    {
     "data": {
      "text/plain": [
       "<Figure size 1200x600 with 1 Axes>"
      ],
      "image/png": "[encoded data removed]"
     },
     "metadata": {},
     "output_type": "display_data"
    }
   ],
   "execution_count": 11
  },
  {
   "metadata": {
    "ExecuteTime": {
     "end_time": "2025-03-06T14:03:02.597585Z",
     "start_time": "2025-03-06T14:03:02.586777Z"
    }
   },
   "cell_type": "code",
   "source": [
    "# Save the best model\n",
    "best_model_name = comparison_df.sort_values('Val RMSE').iloc[0]['Model']\n",
    "if best_model_name == \"MLP with NIR\":\n",
    "    best_model = best_mlp\n",
    "else:\n",
    "    best_model = models[best_model_name]\n",
    "\n",
    "joblib.dump(best_model, f'nir_tomato_best_{best_model_name.lower().replace(\" \", \"_\")}_model.joblib')\n",
    "print(f\"\\nBest model ({best_model_name}) saved successfully!\")\n",
    "\n",
    "model_details = {\n",
    "    'best_model_name': best_model_name,\n",
    "    'model_results': results,\n",
    "    'comparison_df': comparison_df,\n",
    "}\n",
    "\n",
    "joblib.dump(model_details, 'nir_tomato_model_details_with_nir_preprocessing.joblib')"
   ],
   "outputs": [
    {
     "name": "stdout",
     "output_type": "stream",
     "text": [
      "\n",
      "Best model (MLP with NIR) saved successfully!\n"
     ]
    },
    {
     "data": {
      "text/plain": [
       "['nir_tomato_model_details_with_nir_preprocessing.joblib']"
      ]
     },
     "execution_count": 12,
     "metadata": {},
     "output_type": "execute_result"
    }
   ],
   "execution_count": 12
  },
  {
   "cell_type": "markdown",
   "metadata": {},
   "source": "## 4. Evaluate on Test Set"
  },
  {
   "metadata": {
    "ExecuteTime": {
     "end_time": "2025-03-06T14:03:02.643337Z",
     "start_time": "2025-03-06T14:03:02.628060Z"
    }
   },
   "cell_type": "code",
   "source": [
    "y_test_pred = best_model.predict(X_test)\n",
    "test_rmse = np.sqrt(mean_squared_error(y_test, y_test_pred))\n",
    "test_r2 = r2_score(y_test, y_test_pred)\n",
    "test_mae = mean_absolute_error(y_test, y_test_pred)\n",
    "\n",
    "print(\"\\nFinal Evaluation on Test Set:\")\n",
    "print(f\"Test RMSE: {test_rmse:.4f}\")\n",
    "print(f\"Test R²: {test_r2:.4f}\")\n",
    "print(f\"Test MAE: {test_mae:.4f}\")"
   ],
   "outputs": [
    {
     "name": "stdout",
     "output_type": "stream",
     "text": [
      "\n",
      "Final Evaluation on Test Set:\n",
      "Test RMSE: 0.3200\n",
      "Test R²: 0.6914\n",
      "Test MAE: 0.2446\n"
     ]
    }
   ],
   "execution_count": 13
  }
 ],
 "metadata": {
  "kernelspec": {
   "display_name": "Python 3",
   "language": "python",
   "name": "python3"
  },
  "language_info": {
   "codemirror_mode": {
    "name": "ipython",
    "version": 3
   },
   "file_extension": ".py",
   "mimetype": "text/x-python",
   "name": "python",
   "nbconvert_exporter": "python",
   "pygments_lexer": "ipython3",
   "version": "3.8.5"
  }
 },
 "nbformat": 4,
 "nbformat_minor": 4
}
